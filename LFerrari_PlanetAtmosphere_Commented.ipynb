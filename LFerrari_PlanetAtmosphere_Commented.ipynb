{
  "nbformat": 4,
  "nbformat_minor": 0,
  "metadata": {
    "colab": {
      "provenance": [],
      "include_colab_link": true
    },
    "kernelspec": {
      "name": "python3",
      "display_name": "Python 3"
    },
    "language_info": {
      "name": "python"
    }
  },
  "cells": [
    {
      "cell_type": "markdown",
      "metadata": {
        "id": "view-in-github",
        "colab_type": "text"
      },
      "source": [
        "<a href=\"https://colab.research.google.com/github/Ferrari7437/Planetary_Science/blob/main/LFerrari_PlanetAtmosphere_Commented.ipynb\" target=\"_parent\"><img src=\"https://colab.research.google.com/assets/colab-badge.svg\" alt=\"Open In Colab\"/></a>"
      ]
    },
    {
      "cell_type": "markdown",
      "source": [
        "**Scale Height**"
      ],
      "metadata": {
        "id": "oXGMWNms4era"
      }
    },
    {
      "cell_type": "code",
      "source": [
        "#import useful modules\n",
        "import numpy as np\n",
        "import astropy.constants as ac\n",
        "import astropy.units as u\n",
        "\n",
        "mu = 29.0 * ac.m_p #the molecular number of our atmosphere times the mass of a proton results in the average molecular mass of the atmosphere mu\n",
        "g = 9.8 * u.m / u.s**2 #acceleration from gravity, which is 9.8 meters per second squared\n",
        "T = 300 * u.K #average temperature of Earth's atmosphere in Kelvin\n",
        "H = ac.k_B * T / (mu * g) #the scale height of Earth's atmosphere is Boltzmann's constant times the temperature of earth's atmosphere divided by the quantity molecular mass times g\n",
        "#report the result\n",
        "print(\"Scale height of Earth atmospehre is \", H.to(u.km))"
      ],
      "metadata": {
        "colab": {
          "base_uri": "https://localhost:8080/"
        },
        "id": "-fWqE3cA4dEU",
        "outputId": "0f8a8178-19b5-440b-fa52-7f22fd5b3b90"
      },
      "execution_count": null,
      "outputs": [
        {
          "output_type": "stream",
          "name": "stdout",
          "text": [
            "Scale height of Earth atmospehre is  8.713300235811277 km\n"
          ]
        }
      ]
    },
    {
      "cell_type": "markdown",
      "source": [
        "**Lapse Rate - Order of Magnitude**"
      ],
      "metadata": {
        "id": "lRHS9vW95jHT"
      }
    },
    {
      "cell_type": "code",
      "source": [
        "#roughly calculate how much the temperature of the atmosphere changes with altitude\n",
        "lapse_rate = mu * g / ac.k_B #here, the lapse rate is the molecular mass times g, divided by the Boltzmann constant\n",
        "#report the result\n",
        "print(\"Temperature change in the atmosphere is \", lapse_rate.to(u.K/u.km))"
      ],
      "metadata": {
        "colab": {
          "base_uri": "https://localhost:8080/"
        },
        "id": "K1eODXIg5inQ",
        "outputId": "ccdfc10c-00d1-4afe-9eb1-016bc44f8d3d"
      },
      "execution_count": null,
      "outputs": [
        {
          "output_type": "stream",
          "name": "stdout",
          "text": [
            "Temperature change in the atmosphere is  34.43012313141849 K / km\n"
          ]
        }
      ]
    },
    {
      "cell_type": "markdown",
      "source": [
        "**Lapse Rate - more precise**"
      ],
      "metadata": {
        "id": "lX3oITZr6KiF"
      }
    },
    {
      "cell_type": "code",
      "source": [
        "rho = 1.2 * u.kg / u.m**3 #the density of the atmosphere, given in kilograms per cubic meter\n",
        "gamma = 7. / 5. #constant value that goes in the exponent\n",
        "T = 300 * u.K #temperature of Earth's atmosphere at a given altitude, in K\n",
        "T0 = 300 * u.K #temperatue of Earth's atmosphere at the surface, in K\n",
        "P0 = 1 * u.bar #pressure of Earth's atmosphere at the surface, in bar\n",
        "lapse_rate = rho * g / P0 * T0 * (gamma - 1.) / gamma * (T/T0)**(-1. / (gamma - 1)) #calculates the lapse rate\n",
        "#report the result\n",
        "print(\"Temperature change in the atmosphere is \", lapse_rate.to(u.K/u.km))"
      ],
      "metadata": {
        "colab": {
          "base_uri": "https://localhost:8080/"
        },
        "id": "F-q2sLRa4x-h",
        "outputId": "5fdeafdd-9215-4426-93d5-07f89eed3bac"
      },
      "execution_count": null,
      "outputs": [
        {
          "output_type": "stream",
          "name": "stdout",
          "text": [
            "Temperature change in the atmosphere is  10.079999999999998 K / km\n"
          ]
        }
      ]
    },
    {
      "cell_type": "code",
      "source": [
        "print(1 / np.e) #inverse Euler's constant"
      ],
      "metadata": {
        "colab": {
          "base_uri": "https://localhost:8080/"
        },
        "id": "xYo5G4lo5VIB",
        "outputId": "e0fad9fb-2459-4260-9cac-e5b3fb1995ff"
      },
      "execution_count": null,
      "outputs": [
        {
          "output_type": "stream",
          "name": "stdout",
          "text": [
            "0.36787944117144233\n"
          ]
        }
      ]
    },
    {
      "cell_type": "markdown",
      "source": [
        "**Atmosphere escape** $\\dot{M} = \\frac{L_\\odot R_\\oplus^3}{4G (0.1 AU)^2M_\\oplus}$"
      ],
      "metadata": {
        "id": "-oNl_ogtio_6"
      }
    },
    {
      "cell_type": "code",
      "source": [
        "m_dot = u.solLum * u.earthRad**3 / (4 * ac.G * (0.1 * u.AU)**2 * u.earthMass) #rate of change of the mass of the atmosphere, calculated by multiplying the solar luminosity times the radius of the Earth cubed, divided by quantity 4 times the Newtonian gravitational constant G times 1/10th of an AU squared times the mass of the Earth\n",
        "#report the rate of atmospheric escape in Earth masses per year\n",
        "print(\"Atmosphere escape is \", m_dot.to(u.earthMass/u.year))"
      ],
      "metadata": {
        "id": "DWMvVqfMSoL8",
        "colab": {
          "base_uri": "https://localhost:8080/"
        },
        "outputId": "7388fc5d-82a8-4514-9455-7095d6b3299f"
      },
      "execution_count": null,
      "outputs": [
        {
          "output_type": "stream",
          "name": "stdout",
          "text": [
            "Atmosphere escape is  1.4708531549811543e-06 earthMass / yr\n"
          ]
        }
      ]
    },
    {
      "cell_type": "markdown",
      "source": [
        "This is quick because Earth atmospheric mass is about 1e-6 earth total mass, why?"
      ],
      "metadata": {
        "id": "WcHVffaqk0LA"
      }
    },
    {
      "cell_type": "code",
      "source": [
        "rho_atm = 1 * u.kg / u.m**3 # density of the atmosphere, roughly 1 kg per cubic meter\n",
        "atm_mass = 4 * np.pi * u.earthRad**2 * H * 1 * rho_atm #the mass of the atmosphere, calculated as the volume of a shell of 1 scale height of thickness around the Earth times the density of the atmosphere\n",
        "#report our estimate of the mass of the atmosphere in Earth masses\n",
        "print(\"Atmosphere mass is \", atm_mass.to(u.earthMass))"
      ],
      "metadata": {
        "colab": {
          "base_uri": "https://localhost:8080/"
        },
        "id": "8hlmJ5Qqj1JR",
        "outputId": "80d0fc35-ec6c-4326-87f1-9d739ff562c5"
      },
      "execution_count": null,
      "outputs": [
        {
          "output_type": "stream",
          "name": "stdout",
          "text": [
            "Atmosphere mass is  7.458357295631288e-07 earthMass\n"
          ]
        }
      ]
    },
    {
      "cell_type": "markdown",
      "source": [
        "Another issue is that not all photons from the host star can drive particle to escape from the atmosphere, what is the corresponding wavelength that is capable of driving atmospheric escape? $h\\frac{c}{\\lambda} = \\frac{G M_p \\mu}{R_p}$"
      ],
      "metadata": {
        "id": "gdi2VrQKlu6D"
      }
    },
    {
      "cell_type": "code",
      "source": [
        "mu = 2.3 * ac.m_p #molecular mass, in proton masses\n",
        "E_esc = ac.G * u.earthMass * mu / u.earthRad # escape energy of Earth, calculated as G times the mass of the Earth times the molecular divided by the radius of the Earth\n",
        "wav = ac.h * ac.c / E_esc # the wavelength of light required to overcome this escape energy and strip the atmosphere\n",
        "#report the minimum wavelenghth of light that can strip the atmosphere\n",
        "print(\"Wavelength of escape is \", wav.to(u.um))"
      ],
      "metadata": {
        "colab": {
          "base_uri": "https://localhost:8080/"
        },
        "id": "jwvrdZvFmNpj",
        "outputId": "ef3a050d-1494-4b42-b03c-e059bb31a344"
      },
      "execution_count": null,
      "outputs": [
        {
          "output_type": "stream",
          "name": "stdout",
          "text": [
            "Wavelength of escape is  0.826237125481894 um\n"
          ]
        }
      ]
    },
    {
      "cell_type": "markdown",
      "source": [
        "The above value is the bare mininum, but in reality, it is the UV and X-ray that drives the atmospheric escape. The UV and X-ray photons only account for 1e-5 of the total solar luminosity when the sun is young, so $\\dot{M} \\sim 10^{-5} M_\\oplus/Myr \\left(\\frac{\\eta}{10^{-5}}\\right)\\left(\\frac{L}{L_\\odot}\\right)\\left(\\frac{a}{0.1\\ AU}\\right)^{-2}\\left(\\frac{M_p}{M_\\oplus}\\right)^{3\\alpha-1}$, where $\\alpha$ is the power of mass-radius relationship."
      ],
      "metadata": {
        "id": "9XzmGxMlnMvA"
      }
    },
    {
      "cell_type": "code",
      "source": [
        "# For an Earth-sized planet with 1e-3 Earth mass atmosphere\n",
        "atm_frac = 1e-3 #ratio of atmosphere mass to Earth mass\n",
        "Mp = 1 * u.earthMass #mass of the planet in question, in this case Earth\n",
        "m_dot = 1e-5 * u.earthMass / u.Myr #rate of change of the atmosphere of this planet, in earth masses per year\n",
        "t_loss = atm_frac * Mp / m_dot #how long it will take for the planet's atmosphere to disappear, calculated as the ratio between the atmosphere's mass and the rate of change of the mass of the atmosphere\n",
        "#report the amount of time for the atmosphere to be stripped, in Myr\n",
        "print(\"Time to loss is \", t_loss.to(u.Myr))"
      ],
      "metadata": {
        "colab": {
          "base_uri": "https://localhost:8080/"
        },
        "id": "nPMuplcqoJP4",
        "outputId": "61c0b903-c803-4141-f8cc-9f634a5ab7c3"
      },
      "execution_count": null,
      "outputs": [
        {
          "output_type": "stream",
          "name": "stdout",
          "text": [
            "Time to loss is  100.0 Myr\n"
          ]
        }
      ]
    },
    {
      "cell_type": "code",
      "source": [
        "# For an Mp = 8 * M_earth planet with 1e-2 Earth mass atmosphere\n",
        "atm_frac = 1e-2 #ratio between a planet's atmosphere and the planet mass\n",
        "Mp = 8 * u.earthMass #mass of the planet\n",
        "alpha = 0.3 #power of the mass-radius relationship\n",
        "m_dot = 1e-5 * u.earthMass / u.Myr * (Mp / u.earthMass)**(3.0 * alpha - 1.0) #calculates the rate of change of the mass of the planet's atmosphere in earth masses per year, using the mass-radius relationship to determine the planet's radius in the calculation\n",
        "t_loss = atm_frac * Mp / m_dot #how long it will take for the planet's atmosphere to disappear, calculated as the ratio between the atmosphere's mass and the rate of change of the mass of the atmosphere\n",
        "#report the amount of time for the atmosphere to be stripped, in Myr\n",
        "print(\"Time to loss is \", t_loss.to(u.Myr))"
      ],
      "metadata": {
        "colab": {
          "base_uri": "https://localhost:8080/"
        },
        "id": "Dtvcm6K403nl",
        "outputId": "b30d6e5a-c9e5-4abc-f10d-4bc0b1a88865"
      },
      "execution_count": null,
      "outputs": [
        {
          "output_type": "stream",
          "name": "stdout",
          "text": [
            "Time to loss is  9849.15530675933 Myr\n"
          ]
        }
      ]
    },
    {
      "cell_type": "code",
      "source": [
        "# For an Mp = 18 * M_earth planet with 1e-2 Earth mass atmosphere\n",
        "atm_frac = 1e-1 #ratio between a planet's atmosphere and the planet mass\n",
        "Mp = 18 * u.earthMass #mass of the planet\n",
        "alpha = 0.6 #power of the mass-radius relationship\n",
        "m_dot = 1e-5 * u.earthMass / u.Myr * (Mp / u.earthMass)**(3.0 * alpha - 1.0) #calculates the rate of change of the mass of the planet's atmosphere in earth masses per year, using the mass-radius relationship to determine the planet's radius in the calculation\n",
        "t_loss = atm_frac * Mp / m_dot #how long it will take for the planet's atmosphere to disappear, calculated as the ratio between the atmosphere's mass and the rate of change of the mass of the atmosphere\n",
        "#report the amount of time for the atmosphere to be stripped, in Myr\n",
        "print(\"Time to loss is \", t_loss.to(u.Myr))"
      ],
      "metadata": {
        "colab": {
          "base_uri": "https://localhost:8080/"
        },
        "id": "eGievzDQ19DE",
        "outputId": "7a48b205-c520-4db9-a44f-1d50c8f2e236"
      },
      "execution_count": null,
      "outputs": [
        {
          "output_type": "stream",
          "name": "stdout",
          "text": [
            "Time to loss is  17826.024579660043 Myr\n"
          ]
        }
      ]
    },
    {
      "cell_type": "markdown",
      "source": [
        "This time scale is long, the the alpha that we are using is for mature planets, changing it to a higher alpha, which is more appropriate for young planets."
      ],
      "metadata": {
        "id": "3nb_btQs3v1U"
      }
    },
    {
      "cell_type": "code",
      "source": [
        "# For an Mp = 18 * M_earth planet with 1e-2 Earth mass atmosphere\n",
        "atm_frac = 1e-1 #ratio between a planet's atmosphere and the planet mass\n",
        "Mp = 18 * u.earthMass #mass of the planet\n",
        "alpha = 1.0 #power of the mass-radius relationship, higher for younger planets\n",
        "m_dot = 1e-5 * u.earthMass / u.Myr * (Mp / u.earthMass)**(3.0 * alpha - 1.0) #calculates the rate of change of the mass of the planet's atmosphere in earth masses per year, using the mass-radius relationship to determine the planet's radius in the calculation\n",
        "t_loss = atm_frac * Mp / m_dot #how long it will take for the planet's atmosphere to disappear, calculated as the ratio between the atmosphere's mass and the rate of change of the mass of the atmosphere\n",
        "#report the amount of time for the atmosphere to be stripped, in Myr\n",
        "print(\"Time to loss is \", t_loss.to(u.Myr))"
      ],
      "metadata": {
        "colab": {
          "base_uri": "https://localhost:8080/"
        },
        "id": "tJ4Tt9SI3ct6",
        "outputId": "bb758516-a901-4ad0-ac49-ea0a4e6e6231"
      },
      "execution_count": null,
      "outputs": [
        {
          "output_type": "stream",
          "name": "stdout",
          "text": [
            "Time to loss is  555.5555555555555 Myr\n"
          ]
        }
      ]
    },
    {
      "cell_type": "markdown",
      "source": [
        "For a more massive planet:"
      ],
      "metadata": {
        "id": "OUlcC8pg4liF"
      }
    },
    {
      "cell_type": "code",
      "source": [
        "# For an Mp = 40 * M_earth planet with 1e-2 Earth mass atmosphere\n",
        "atm_frac = 1e-1 #ratio between a planet's atmosphere and the planet mass\n",
        "Mp = 40 * u.earthMass #mass of the planet, larger\n",
        "alpha = 1.0 #power of the mass-radius relationship, higher for younger planets\n",
        "m_dot = 1e-5 * u.earthMass / u.Myr * (Mp / u.earthMass)**(3.0 * alpha - 1.0) #calculates the rate of change of the mass of the planet's atmosphere in earth masses per year, using the mass-radius relationship to determine the planet's radius in the calculation\n",
        "t_loss = atm_frac * Mp / m_dot #how long it will take for the planet's atmosphere to disappear, calculated as the ratio between the atmosphere's mass and the rate of change of the mass of the atmosphere\n",
        "#report the amount of time for the atmosphere to be stripped, in Myr\n",
        "print(\"Time to loss is \", t_loss.to(u.Myr))"
      ],
      "metadata": {
        "colab": {
          "base_uri": "https://localhost:8080/"
        },
        "id": "n2mNZNuE4cJP",
        "outputId": "b939455d-22b1-47a7-9fd0-15970582461c"
      },
      "execution_count": null,
      "outputs": [
        {
          "output_type": "stream",
          "name": "stdout",
          "text": [
            "Time to loss is  250.0 Myr\n"
          ]
        }
      ]
    },
    {
      "cell_type": "markdown",
      "source": [],
      "metadata": {
        "id": "vhP7Xu5pkzXM"
      }
    }
  ]
}